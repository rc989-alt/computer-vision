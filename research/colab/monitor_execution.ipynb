{
 "cells": [
  {
   "cell_type": "markdown",
   "metadata": {},
   "source": [
    "# Executive Team Monitor\n",
    "## Real-time monitoring of execution and deployments"
   ]
  },
  {
   "cell_type": "code",
   "execution_count": null,
   "metadata": {},
   "outputs": [],
   "source": [
    "import time\n",
    "import json\n",
    "from pathlib import Path\n",
    "from IPython.display import clear_output, display\n",
    "from datetime import datetime\n",
    "\n",
    "PROJECT_ROOT = Path(\"/content/cv_project\")\n",
    "EXECUTION_LOG = Path(\"/content/executive.log\")\n",
    "EXECUTION_REPORTS = PROJECT_ROOT / \"multi-agent/reports/execution\"\n",
    "\n",
    "print(\"⚙️ Executive Team Monitor initialized\")"
   ]
  },
  {
   "cell_type": "markdown",
   "metadata": {},
   "source": [
    "## Current Execution Status"
   ]
  },
  {
   "cell_type": "code",
   "execution_count": null,
   "metadata": {},
   "outputs": [],
   "source": [
    "def get_execution_status():\n",
    "    \"\"\"Parse log to get current status\"\"\"\n",
    "    if not EXECUTION_LOG.exists():\n",
    "        return \"System not started\"\n",
    "    \n",
    "    with open(EXECUTION_LOG, 'r') as f:\n",
    "        lines = f.readlines()\n",
    "    \n",
    "    # Find latest cycle info\n",
    "    for line in reversed(lines[-50:]):\n",
    "        if \"HEARTBEAT CYCLE\" in line:\n",
    "            return line.strip()\n",
    "    \n",
    "    return \"System running\"\n",
    "\n",
    "status = get_execution_status()\n",
    "print(f\"📊 Status: {status}\\n\")"
   ]
  },
  {
   "cell_type": "markdown",
   "metadata": {},
   "source": [
    "## Recent Agent Activity"
   ]
  },
  {
   "cell_type": "code",
   "execution_count": null,
   "metadata": {},
   "outputs": [],
   "source": [
    "def get_recent_activity():\n",
    "    \"\"\"Get recent agent executions\"\"\"\n",
    "    if not EXECUTION_LOG.exists():\n",
    "        return []\n",
    "    \n",
    "    with open(EXECUTION_LOG, 'r') as f:\n",
    "        lines = f.readlines()\n",
    "    \n",
    "    activities = []\n",
    "    for line in reversed(lines[-100:]):\n",
    "        if \"🤖\" in line:\n",
    "            activities.append(line.strip())\n",
    "        if len(activities) >= 10:\n",
    "            break\n",
    "    \n",
    "    return list(reversed(activities))\n",
    "\n",
    "activities = get_recent_activity()\n",
    "print(f\"🤖 Recent Agent Activity ({len(activities)} actions):\\n\")\n",
    "for activity in activities[-5:]:\n",
    "    print(activity)"
   ]
  },
  {
   "cell_type": "markdown",
   "metadata": {},
   "source": [
    "## Tool Executions"
   ]
  },
  {
   "cell_type": "code",
   "execution_count": null,
   "metadata": {},
   "outputs": [],
   "source": [
    "def get_tool_usage():\n",
    "    \"\"\"Get tool execution logs\"\"\"\n",
    "    if not EXECUTION_LOG.exists():\n",
    "        return []\n",
    "    \n",
    "    with open(EXECUTION_LOG, 'r') as f:\n",
    "        lines = f.readlines()\n",
    "    \n",
    "    tools = []\n",
    "    for line in reversed(lines[-100:]):\n",
    "        if \"[TOOL]\" in line:\n",
    "            tools.append(line.strip())\n",
    "        if len(tools) >= 10:\n",
    "            break\n",
    "    \n",
    "    return list(reversed(tools))\n",
    "\n",
    "tools = get_tool_usage()\n",
    "print(f\"🔧 Tool Executions ({len(tools)}):\\n\")\n",
    "for tool in tools[-5:]:\n",
    "    print(tool)"
   ]
  },
  {
   "cell_type": "markdown",
   "metadata": {},
   "source": [
    "## Deployment Status"
   ]
  },
  {
   "cell_type": "code",
   "execution_count": null,
   "metadata": {},
   "outputs": [],
   "source": [
    "def check_deployments():\n",
    "    \"\"\"Check deployment directories\"\"\"\n",
    "    deployment_dir = PROJECT_ROOT / \"deployment\"\n",
    "    \n",
    "    stages = [\"shadow\", \"5_percent\", \"20_percent\", \"production\"]\n",
    "    status = {}\n",
    "    \n",
    "    for stage in stages:\n",
    "        stage_dir = deployment_dir / stage\n",
    "        if stage_dir.exists():\n",
    "            files = list(stage_dir.glob(\"*\"))\n",
    "            status[stage] = f\"✅ {len(files)} files\"\n",
    "        else:\n",
    "            status[stage] = \"❌ Not deployed\"\n",
    "    \n",
    "    return status\n",
    "\n",
    "deployments = check_deployments()\n",
    "print(\"🚀 Deployment Status:\\n\")\n",
    "for stage, status in deployments.items():\n",
    "    print(f\"   {stage}: {status}\")"
   ]
  },
  {
   "cell_type": "markdown",
   "metadata": {},
   "source": [
    "## Live Execution Monitor"
   ]
  },
  {
   "cell_type": "code",
   "execution_count": null,
   "metadata": {},
   "outputs": [],
   "source": [
    "print(\"👀 Starting live execution monitor (Press Stop to exit)\\n\")\n",
    "\n",
    "while True:\n",
    "    clear_output(wait=True)\n",
    "    \n",
    "    print(\"=\"*60)\n",
    "    print(\"⚙️  EXECUTIVE TEAM - LIVE MONITOR\")\n",
    "    print(\"=\"*60)\n",
    "    print(f\"🕐 {datetime.now().strftime('%H:%M:%S')}\\n\")\n",
    "    \n",
    "    # Status\n",
    "    status = get_execution_status()\n",
    "    print(f\"📊 {status}\\n\")\n",
    "    \n",
    "    # Recent activity\n",
    "    activities = get_recent_activity()\n",
    "    print(f\"🤖 Recent Activity:\")\n",
    "    print(f\"{'─'*60}\")\n",
    "    for activity in activities[-3:]:\n",
    "        print(activity)\n",
    "    print()\n",
    "    \n",
    "    # Tool usage\n",
    "    tools = get_tool_usage()\n",
    "    print(f\"🔧 Recent Tool Executions:\")\n",
    "    print(f\"{'─'*60}\")\n",
    "    for tool in tools[-3:]:\n",
    "        print(tool)\n",
    "    print()\n",
    "    \n",
    "    # Deployments\n",
    "    deployments = check_deployments()\n",
    "    print(f\"🚀 Deployments:\")\n",
    "    print(f\"{'─'*60}\")\n",
    "    for stage, status in deployments.items():\n",
    "        print(f\"   {stage}: {status}\")\n",
    "    \n",
    "    print(\"\\n\" + \"=\"*60)\n",
    "    print(\"🔄 Refreshing in 30 seconds...\")\n",
    "    print(\"⏹️  Press Stop to exit\")\n",
    "    print(\"=\"*60)\n",
    "    \n",
    "    time.sleep(30)"
   ]
  }
 ],
 "metadata": {
  "kernelspec": {
   "display_name": "Python 3",
   "name": "python3"
  }
 },
 "nbformat": 4,
 "nbformat_minor": 0
}
