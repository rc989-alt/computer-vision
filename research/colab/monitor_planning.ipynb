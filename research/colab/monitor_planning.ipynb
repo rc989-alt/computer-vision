{
 "cells": [
  {
   "cell_type": "markdown",
   "metadata": {},
   "source": [
    "# Planning Team Monitor\n",
    "## Real-time monitoring of strategic planning meetings"
   ]
  },
  {
   "cell_type": "code",
   "execution_count": null,
   "metadata": {},
   "outputs": [],
   "source": [
    "import time\n",
    "import json\n",
    "from pathlib import Path\n",
    "from IPython.display import clear_output, Markdown, display\n",
    "from datetime import datetime\n",
    "\n",
    "PROJECT_ROOT = Path(\"/content/cv_project\")\n",
    "PLANNING_REPORTS = PROJECT_ROOT / \"multi-agent/reports/planning\"\n",
    "\n",
    "print(\"📊 Planning Team Monitor initialized\")"
   ]
  },
  {
   "cell_type": "markdown",
   "metadata": {},
   "source": [
    "## Latest Meeting Summary"
   ]
  },
  {
   "cell_type": "code",
   "execution_count": null,
   "metadata": {},
   "outputs": [],
   "source": [
    "def get_latest_summary():\n",
    "    \"\"\"Get the most recent meeting summary\"\"\"\n",
    "    summaries = sorted(PLANNING_REPORTS.glob(\"summary_*.md\"), reverse=True)\n",
    "    if summaries:\n",
    "        with open(summaries[0], 'r') as f:\n",
    "            return f.read(), summaries[0].stem\n",
    "    return \"No meetings yet\", \"N/A\"\n",
    "\n",
    "summary, meeting_id = get_latest_summary()\n",
    "print(f\"📋 Latest Meeting: {meeting_id}\\n\")\n",
    "display(Markdown(summary[:1000] + \"...\" if len(summary) > 1000 else summary))"
   ]
  },
  {
   "cell_type": "markdown",
   "metadata": {},
   "source": [
    "## Recommended Actions"
   ]
  },
  {
   "cell_type": "code",
   "execution_count": null,
   "metadata": {},
   "outputs": [],
   "source": [
    "def get_latest_actions():\n",
    "    \"\"\"Get actions from latest meeting\"\"\"\n",
    "    actions = sorted(PLANNING_REPORTS.glob(\"actions_*.json\"), reverse=True)\n",
    "    if actions:\n",
    "        with open(actions[0], 'r') as f:\n",
    "            return json.load(f)\n",
    "    return []\n",
    "\n",
    "actions = get_latest_actions()\n",
    "print(f\"🎯 Recommended Actions: {len(actions)}\\n\")\n",
    "\n",
    "for i, action in enumerate(actions[:5], 1):\n",
    "    desc = action.get('description', str(action))[:100]\n",
    "    print(f\"{i}. {desc}...\")\n",
    "    if hasattr(action, '__dict__'):\n",
    "        print(f\"   Type: {getattr(action, 'action_type', 'unknown')}\")\n",
    "    print()"
   ]
  },
  {
   "cell_type": "markdown",
   "metadata": {},
   "source": [
    "## Meeting History"
   ]
  },
  {
   "cell_type": "code",
   "execution_count": null,
   "metadata": {},
   "outputs": [],
   "source": [
    "summaries = sorted(PLANNING_REPORTS.glob(\"summary_*.md\"), reverse=True)\n",
    "print(f\"📚 Total Meetings: {len(summaries)}\\n\")\n",
    "\n",
    "for summary_file in summaries[:5]:\n",
    "    timestamp = summary_file.stem.replace('summary_', '')\n",
    "    size = summary_file.stat().st_size\n",
    "    print(f\"📋 {timestamp} ({size} bytes)\")"
   ]
  },
  {
   "cell_type": "markdown",
   "metadata": {},
   "source": [
    "## Live Monitor (Auto-refresh)"
   ]
  },
  {
   "cell_type": "code",
   "execution_count": null,
   "metadata": {},
   "outputs": [],
   "source": [
    "print(\"👀 Starting live monitor (Press Stop to exit)\\n\")\n",
    "\n",
    "while True:\n",
    "    clear_output(wait=True)\n",
    "    \n",
    "    print(\"=\"*60)\n",
    "    print(\"📊 PLANNING TEAM - LIVE MONITOR\")\n",
    "    print(\"=\"*60)\n",
    "    print(f\"🕐 {datetime.now().strftime('%H:%M:%S')}\\n\")\n",
    "    \n",
    "    # Latest summary\n",
    "    summary, meeting_id = get_latest_summary()\n",
    "    print(f\"📋 Latest Meeting: {meeting_id}\")\n",
    "    print(f\"{'─'*60}\")\n",
    "    print(summary[:500])\n",
    "    print(\"\\n\")\n",
    "    \n",
    "    # Actions\n",
    "    actions = get_latest_actions()\n",
    "    print(f\"🎯 Actions Recommended: {len(actions)}\")\n",
    "    print(f\"{'─'*60}\")\n",
    "    for i, action in enumerate(actions[:3], 1):\n",
    "        desc = str(action)[:80]\n",
    "        print(f\"{i}. {desc}...\")\n",
    "    \n",
    "    print(\"\\n\" + \"=\"*60)\n",
    "    print(\"🔄 Refreshing in 60 seconds...\")\n",
    "    print(\"⏹️  Press Stop to exit\")\n",
    "    print(\"=\"*60)\n",
    "    \n",
    "    time.sleep(60)"
   ]
  }
 ],
 "metadata": {
  "kernelspec": {
   "display_name": "Python 3",
   "name": "python3"
  }
 },
 "nbformat": 4,
 "nbformat_minor": 0
}
